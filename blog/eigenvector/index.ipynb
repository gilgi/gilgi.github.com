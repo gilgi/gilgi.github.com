{
  "cells": [
    {
      "cell_type": "markdown",
      "source": [
        "Two concepts that are easy to confuse are [eigenvectors](https://en.wikipedia.org/wiki/Eigenvalues_and_eigenvectors) and [principle components](https://en.wikipedia.org/wiki/Principal_component_analysis). When the matrix in question is symmetric, there is a relationship between the first eigenvector and the projection of the data onto its first principle component. In this post, we'll use [diagonalization](https://en.wikipedia.org/wiki/Diagonalizable_matrix#Diagonalization) and [singular value decomposition](https://en.wikipedia.org/wiki/Singular_value_decomposition) to try to shed some light on this.\n",
        "\n",
        "[![Open In Colab](https://colab.research.google.com/assets/colab-badge.svg)](https://colab.research.google.com/github/gilgi/gilgi.github.com/blob/src/posts/eigenvector.ipynb)\n",
        "\n",
        "<!-- TEASER_END -->"
      ],
      "metadata": {}
    },
    {
      "cell_type": "code",
      "source": [
        "import numpy as np\n",
        "from sklearn.decomposition import PCA"
      ],
      "outputs": [],
      "execution_count": 0,
      "metadata": {
        "id": "SOw-nq560Std",
        "colab_type": "code",
        "colab": {}
      }
    },
    {
      "cell_type": "markdown",
      "source": [
        "Set random seed for reproducibility."
      ],
      "metadata": {
        "id": "ZSojrqo703I3",
        "colab_type": "text"
      }
    },
    {
      "cell_type": "code",
      "source": [
        "np.random.seed(42)"
      ],
      "outputs": [],
      "execution_count": 0,
      "metadata": {
        "id": "DWHPwMMC0qm4",
        "colab_type": "code",
        "colab": {}
      }
    },
    {
      "cell_type": "markdown",
      "source": [
        "Make a symmetric matrix $A$ which represents the contact matrix. This is typically made from $\\frac{\\textrm{observed}}{\\textrm{1-D expected}}$ data but for this demo it doesn't matter. For simplicity we will make sure the row and column means are zero to avoid running into questions about whether or not PCA should perform an extra centering step."
      ],
      "metadata": {
        "id": "6VXsNZNL06lp",
        "colab_type": "text"
      }
    },
    {
      "cell_type": "code",
      "source": [
        "a = np.random.normal(size=(4, 4))\n",
        "a += a.T\n",
        "a -= np.mean(a, axis=0)[None, :]\n",
        "a -= np.mean(a, axis=1)[:, None]\n",
        "assert np.allclose(np.mean(a, axis=0), 0)\n",
        "assert np.allclose(np.mean(a, axis=1), 0)\n",
        "assert np.allclose(a, a.T)\n",
        "a"
      ],
      "outputs": [
        {
          "output_type": "execute_result",
          "execution_count": 58,
          "data": {
            "text/plain": [
              "array([[-0.66845153,  2.26173989, -0.07248698, -1.52080138],\n",
              "       [ 2.26173989, -0.84507574,  0.68300369, -2.09966784],\n",
              "       [-0.07248698,  0.68300369, -0.89935823,  0.28884153],\n",
              "       [-1.52080138, -2.09966784,  0.28884153,  3.33162769]])"
            ]
          },
          "metadata": {
            "tags": []
          }
        }
      ],
      "execution_count": 0,
      "metadata": {
        "id": "Dj9vRyCg0skI",
        "colab_type": "code",
        "outputId": "aca39feb-9ec9-47a3-c320-9df27f2755d3",
        "colab": {
          "base_uri": "https://localhost:8080/",
          "height": 85
        }
      }
    },
    {
      "cell_type": "markdown",
      "source": [
        "Make the covariance matrix of the contact matrix $C=AA^T=A^TA$. Each entry $C_{i,j}$ describes the covariance between the interaction pattern of the $i$th bin $A_{i,:}$ and the interaction pattern of the $j$th bin $A_{j,:}$. `np.cov()` scales the covariance matrix by dividing it by $N-1$.\n",
        "\n",
        "$$\n",
        "%Make the Pearson correlation matrix of the contact matrix. Each entry $C_{i,j}$ describes how correlated the interaction pattern of the $i$th bin $A_{i,:}$ is with the interaction pattern of the $j$th bin $A_{j,:}$.\n",
        "$$"
      ],
      "metadata": {
        "id": "txbT11WS1cex",
        "colab_type": "text"
      }
    },
    {
      "cell_type": "code",
      "source": [
        "#c = a @ a.T\n",
        "#assert np.allclose(c, np.cov(a)*(a.shape[0] - 1))\n",
        "c = np.corrcoef(a)\n",
        "c"
      ],
      "outputs": [
        {
          "output_type": "execute_result",
          "execution_count": 59,
          "data": {
            "text/plain": [
              "array([[ 1.        , -0.03043523,  0.37185465, -0.74252732],\n",
              "       [-0.03043523,  1.        , -0.51341948, -0.61132217],\n",
              "       [ 0.37185465, -0.51341948,  1.        , -0.12572149],\n",
              "       [-0.74252732, -0.61132217, -0.12572149,  1.        ]])"
            ]
          },
          "metadata": {
            "tags": []
          }
        }
      ],
      "execution_count": 0,
      "metadata": {
        "id": "_SDcxPUY1b_M",
        "colab_type": "code",
        "outputId": "7a937cc2-8014-41db-932d-2c8999c2d561",
        "colab": {
          "base_uri": "https://localhost:8080/",
          "height": 85
        }
      }
    },
    {
      "cell_type": "markdown",
      "source": [
        "Perform PCA on $A$, then project the data onto the first principle component. Scale this projected representation to unit length (since the units on the PC1 axis are arbitrary anyway)."
      ],
      "metadata": {
        "id": "8KqUegvw9CmA",
        "colab_type": "text"
      }
    },
    {
      "cell_type": "code",
      "source": [
        "pca = PCA()\n",
        "pca_proj = pca.fit_transform(c)[:, 0]\n",
        "norm_pca_proj = pca_proj / np.linalg.norm(pca_proj)\n",
        "norm_pca_proj"
      ],
      "outputs": [
        {
          "output_type": "execute_result",
          "execution_count": 60,
          "data": {
            "text/plain": [
              "array([-0.47695205, -0.35476371,  0.02805388,  0.80366189])"
            ]
          },
          "metadata": {
            "tags": []
          }
        }
      ],
      "execution_count": 0,
      "metadata": {
        "id": "bp8h-NrP0zm9",
        "colab_type": "code",
        "outputId": "0694c1a3-184e-4477-ca3d-8b93d7fe8ab4",
        "colab": {
          "base_uri": "https://localhost:8080/",
          "height": 34
        }
      }
    },
    {
      "cell_type": "markdown",
      "source": [
        "Check the vector that describes the first principle component."
      ],
      "metadata": {
        "id": "wSQJb0NA92wH",
        "colab_type": "text"
      }
    },
    {
      "cell_type": "code",
      "source": [
        "pc1 = pca.components_[0, :]\n",
        "pc1"
      ],
      "outputs": [
        {
          "output_type": "execute_result",
          "execution_count": 61,
          "data": {
            "text/plain": [
              "array([-0.54655655, -0.43931021, -0.03541597,  0.71205911])"
            ]
          },
          "metadata": {
            "tags": []
          }
        }
      ],
      "execution_count": 0,
      "metadata": {
        "id": "idKYqEtH9lz6",
        "colab_type": "code",
        "outputId": "16360d4f-6bd5-4309-e7b6-1a6ca4c00aa9",
        "colab": {
          "base_uri": "https://localhost:8080/",
          "height": 34
        }
      }
    },
    {
      "cell_type": "markdown",
      "source": [
        "PCA identifies the principle components as the eigenvectors of the covariance matrix. `np.linalg.eig()` performs the eigendecomposition of $C$ into a diagonal matrix of eigenvalues $\\Lambda$ and a matrix of eigenvectors $Q$ such that\n",
        "\n",
        "$$C=Q \\Lambda Q^{-1}$$\n",
        "\n",
        "where $Q_{:, i}$ is the $i$th eigenvector, associated with the $i$th eigenvalue $\\Lambda_{i,i}$.\n",
        "\n",
        "In the code, `eigvals` is the diagonal of $\\Lambda$ and is therefore a vector of the eigenvalues. `q` is $Q$ and is therefore the matrix of the eigenvectors. The eigenvalues can be in any order, but we are only interested in the largest one, which represents the first principle component."
      ],
      "metadata": {
        "id": "lZYWeT-Y9a7L",
        "colab_type": "text"
      }
    },
    {
      "cell_type": "code",
      "source": [
        "d = c - np.mean(c, axis=1)[:, None]\n",
        "eigvals, q = np.linalg.eig(d @ d.T)\n",
        "top_eigval_idx = np.argmax(np.abs(eigvals))\n",
        "top_eigvec = q[:, top_eigval_idx]\n",
        "top_eigvec"
      ],
      "outputs": [
        {
          "output_type": "execute_result",
          "execution_count": 73,
          "data": {
            "text/plain": [
              "array([ 0.54655655,  0.43931021,  0.03541597, -0.71205911])"
            ]
          },
          "metadata": {
            "tags": []
          }
        }
      ],
      "execution_count": 0,
      "metadata": {
        "id": "xr4lfgYc_VHv",
        "colab_type": "code",
        "outputId": "4c809213-3a6b-45c0-c66f-a69f33d288e0",
        "colab": {
          "base_uri": "https://localhost:8080/",
          "height": 34
        }
      }
    },
    {
      "cell_type": "code",
      "source": [
        "e = a - np.mean(a, axis=1)[:, None]\n",
        "e /= np.std(a, axis=1)[:, None]\n",
        "np.allclose((e @ e.T)/e.shape[0], np.corrcoef(a))"
      ],
      "outputs": [
        {
          "output_type": "execute_result",
          "execution_count": 76,
          "data": {
            "text/plain": [
              "True"
            ]
          },
          "metadata": {
            "tags": []
          }
        }
      ],
      "execution_count": 0,
      "metadata": {
        "id": "toW84tTZpMyw",
        "colab_type": "code",
        "outputId": "246e9e99-3d9e-4254-b8be-42191c74c485",
        "colab": {
          "base_uri": "https://localhost:8080/",
          "height": 34
        }
      }
    },
    {
      "cell_type": "markdown",
      "source": [
        "Another way to implement PCA is to compute the SVD of $A$, which decomposes $A$ into a diagonal matrix of singular values $\\Sigma$, an orthogonal matrix of right singular vectors $V$, and an orthogonal matrix of left singular vectors $U$ such that\n",
        "\n",
        "$$A=U \\Sigma V^T$$\n",
        "\n",
        "We can then write the covariance matrix $C$ in terms of these singular values and vectors\n",
        "\n",
        "\\begin{align}\n",
        "C &= A^TA \\\\\n",
        "&= (U \\Sigma V^T)^T(U \\Sigma V^T) \\\\\n",
        "&= V \\Sigma U^T U \\Sigma V^T \\\\\n",
        "&= V \\Sigma \\Sigma V^T \\quad \\textrm{because }U\\textrm{ is orthogonal}\\\\\n",
        "&= V \\Sigma^2 V^T \\\\\n",
        "\\end{align}\n",
        "\n",
        "Since $A$ is symmetric, we could equivalently have written its covariance matrix as $C=AA^T$ to obtain\n",
        "\n",
        "\\begin{align}\n",
        "C &= AA^T \\\\\n",
        "&= (U \\Sigma V^T)(U \\Sigma V^T)^T \\\\\n",
        "&= U \\Sigma V^T V \\Sigma U^T \\\\\n",
        "&= U \\Sigma \\Sigma U^T \\quad \\textrm{because }V\\textrm{ is orthogonal}\\\\\n",
        "&= U \\Sigma^2 U^T \\\\\n",
        "\\end{align}\n",
        "\n",
        "Since the diagonalization of a matrix is unique (assuming we make all the eigenvalues positive and order them from largest to smallest and ignoring the possibility of degenerate eigenvalues), we can see that $Q=V=U$ and $\\Lambda=\\Sigma^2$.\n",
        "\n",
        "This means that we can obtain the first princple component of $A$ by computing its SVD and taking the right singular vector in $V$ with the largest singular value."
      ],
      "metadata": {
        "id": "4uGR9EkeCBZo",
        "colab_type": "text"
      }
    },
    {
      "cell_type": "code",
      "source": [
        "u, s, vt = np.linalg.svd(a)\n",
        "v = vt.T\n",
        "top_sv_idx = np.argmax(np.abs(s))\n",
        "top_right_singvec = v[:, top_sv_idx]\n",
        "top_left_singvec = u[:, top_sv_idx]\n",
        "assert np.allclose(top_right_singvec, top_left_singvec) or np.allclose(top_right_singvec, -top_left_singvec)\n",
        "top_right_singvec"
      ],
      "outputs": [
        {
          "output_type": "execute_result",
          "execution_count": 8,
          "data": {
            "text/plain": [
              "array([ 0.44819699, -0.49072754, -0.50665589,  0.54918644])"
            ]
          },
          "metadata": {
            "tags": []
          }
        }
      ],
      "execution_count": 0,
      "metadata": {
        "id": "BtXBSO-NCHBU",
        "colab_type": "code",
        "outputId": "d5d34ede-dbe4-4a4f-c52c-e8ce6cb401a2",
        "colab": {
          "base_uri": "https://localhost:8080/",
          "height": 34
        }
      }
    },
    {
      "cell_type": "markdown",
      "source": [
        "As expected, the first principle component `pc1` of $A$ is the same as the first eigenvector (the eigenvector corresponding to the largest eigenvalue) of the covariance matrix $C$, and is also equal to the first right singular vector of $A$."
      ],
      "metadata": {
        "id": "cnaG_LVeA4qc",
        "colab_type": "text"
      }
    },
    {
      "cell_type": "code",
      "source": [
        "np.allclose(pc1, top_eigvec) or np.allclose(pc1, -top_eigvec),\\\n",
        "np.allclose(pc1, top_right_singvec) or np.allclose(pc1, -top_right_singvec)"
      ],
      "outputs": [
        {
          "output_type": "execute_result",
          "execution_count": 9,
          "data": {
            "text/plain": [
              "(False, True)"
            ]
          },
          "metadata": {
            "tags": []
          }
        }
      ],
      "execution_count": 0,
      "metadata": {
        "id": "0rPnX7ee-wSc",
        "colab_type": "code",
        "outputId": "8cc5129e-9a29-4276-9bcd-a86f8612bf03",
        "colab": {
          "base_uri": "https://localhost:8080/",
          "height": 34
        }
      }
    },
    {
      "cell_type": "markdown",
      "source": [
        "What is perhaps less expected is that the projection of the data onto the first principle component is also equal to this first eigenvector."
      ],
      "metadata": {
        "id": "hZFW3EetBZrw",
        "colab_type": "text"
      }
    },
    {
      "cell_type": "code",
      "source": [
        "np.allclose(norm_pca_proj, top_eigvec) or np.allclose(norm_pca_proj, -top_eigvec),\\\n",
        "np.allclose(norm_pca_proj, top_right_singvec) or np.allclose(norm_pca_proj, -top_right_singvec)"
      ],
      "outputs": [
        {
          "output_type": "execute_result",
          "execution_count": 11,
          "data": {
            "text/plain": [
              "(False, True)"
            ]
          },
          "metadata": {
            "tags": []
          }
        }
      ],
      "execution_count": 0,
      "metadata": {
        "id": "5IvHzAOwBYJl",
        "colab_type": "code",
        "outputId": "b418cce2-a008-478b-abe3-f237ff1392fb",
        "colab": {
          "base_uri": "https://localhost:8080/",
          "height": 34
        }
      }
    },
    {
      "cell_type": "markdown",
      "source": [
        "We can check this by projecting the data $A$ onto the subspace spanned by the principle components (which we can find in $Q$, $V$, or $U$):\n",
        "\n",
        "\\begin{align}\n",
        "A_\\textrm{proj} &= AV \\\\\n",
        "&= U\\Sigma V^T V \\quad \\textrm{plug in SVD of }A \\\\\n",
        "&= U\\Sigma \\quad \\textrm{because }V\\textrm{ is orthogonal}\n",
        "\\end{align}\n",
        "\n",
        "As we noted above, $Q=V=U$, so the projection is just the eigenvector scaled by its associated singular value. In other words, the projection of the data in $A$ onto the first principle component of $A$ is just the first principle component of $A$ scaled by the first singular value of $A$.\n",
        "\n",
        "If $A$ was not symmetric, we would still have $V=Q$ (SVD is still a valid way to perform PCA) but $V\\neq U$ and therefore the projection of $A$ onto the first principle component would not be equal to the first eigenvector."
      ],
      "metadata": {
        "id": "IO1T_2YYTSBR",
        "colab_type": "text"
      }
    }
  ],
  "metadata": {
    "colab": {
      "name": "eigenvector_v3.ipynb",
      "provenance": [],
      "collapsed_sections": []
    },
    "kernelspec": {
      "name": "python3",
      "display_name": "Python 3"
    },
    "nteract": {
      "version": "0.15.0"
    }
  },
  "nbformat": 4,
  "nbformat_minor": 0
}
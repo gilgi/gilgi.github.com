{
  "cells": [
    {
      "cell_type": "markdown",
      "source": [
        "![](/images/blog/mal-hype-ladder.png)\n",
        "\n",
        "Everyone loves watching anime, but when there are so many shows airing it can be hard to keep track of what to watch and who's watching what. In this post, we'll use data from [MyAnimeList](https://myanimelist.net/) to drive a custom [D3.js](https://d3js.org/) visualization showing the ratings and number of episodes watched for all our friends.\n",
        "\n",
        "[![Open In Colab](https://colab.research.google.com/assets/colab-badge.svg)](https://colab.research.google.com/drive/0B1nL_8vlPlmWU1RfT3ZqT2FvOW8)\n",
        "\n",
        "<!-- TEASER_END -->\n",
        "\n",
        "Update: the mechanism this notebook uses to get data from MyAnimeList is out of date - stay tuned for a new-and-improved version of this visualization which will be based on the new [Jikan API](https://jikan.moe/)."
      ],
      "metadata": {}
    },
    {
      "cell_type": "code",
      "source": [
        "import xml.etree.ElementTree as ET\n",
        "import pandas as pd\n",
        "import requests\n",
        "from datetime import datetime\n",
        "import math"
      ],
      "outputs": [],
      "execution_count": 0,
      "metadata": {
        "id": "QLBCUGOqPg4L",
        "colab_type": "code",
        "colab": {}
      }
    },
    {
      "cell_type": "markdown",
      "source": [
        "We will start off by specifying some date ranges that correspond to the four traditional yearly seasons of the anime calendar. We'll also list the MyAnimeList usernames of our friends:"
      ],
      "metadata": {}
    },
    {
      "cell_type": "code",
      "source": [
        "date = lambda x: datetime.strptime(x, '%Y-%m-%d')"
      ],
      "outputs": [],
      "execution_count": 0,
      "metadata": {
        "id": "Jdwzx99dnPv-",
        "colab_type": "code",
        "colab": {}
      }
    },
    {
      "cell_type": "code",
      "source": [
        "season_strings = ['2016-10-01', '2017-01-01', '2017-04-01', '2017-07-01', '2017-10-01']\n",
        "season_dates = map(date, season_strings)\n",
        "season_labels = ['Fall 2016', 'Winter 2017', 'Spring 2017', 'Summer 2017']\n",
        "users = ['thelolpatrol', 'gilgi', 'POOPOO88', 'lingybear']"
      ],
      "outputs": [],
      "execution_count": 0,
      "metadata": {
        "id": "caMxRxaayGaq",
        "colab_type": "code",
        "colab": {}
      }
    },
    {
      "cell_type": "markdown",
      "source": [
        "We'll be getting data out of MyAnimeList in an XML format from the `https://myanimelist.net/malappinfo.php` URL, which will allow us to get anime data for each of our friends. Here are a couple of functions which can help us get the XML data into a convenient Pandas DataFrame:"
      ],
      "metadata": {}
    },
    {
      "cell_type": "code",
      "source": [
        "def xml2df(xml_data, tags=('anime',), columns=('series_animedb_id', 'series_title', 'my_score', 'my_watched_episodes', 'series_episodes', 'series_start'), types=(int, unicode, int, int, int, date)):\n",
        "    root = ET.XML(xml_data)\n",
        "    all_records = []\n",
        "    for i, child in enumerate(root):\n",
        "        if child.tag not in tags:\n",
        "            continue\n",
        "        record = {}\n",
        "        for subchild in child:\n",
        "            if subchild.tag in columns:\n",
        "                cast_fn = types[columns.index(subchild.tag)]\n",
        "                try:\n",
        "                    record[subchild.tag] = cast_fn(subchild.text)\n",
        "                except (TypeError, ValueError) as e:\n",
        "                    print 'failed to decode', subchild.tag, subchild.text, e\n",
        "        all_records.append(record)\n",
        "    return pd.DataFrame(all_records)"
      ],
      "outputs": [],
      "execution_count": 0,
      "metadata": {
        "id": "NAM4VH74RQOC",
        "colab_type": "code",
        "colab": {}
      }
    },
    {
      "cell_type": "code",
      "source": [
        "def make_df(user):\n",
        "    df = xml2df(requests.get('https://myanimelist.net/malappinfo.php?u=%s&status=all&type=anime' % user).text.encode('utf-8'))\n",
        "    df['season'] = pd.cut(df.series_start, bins=season_dates, right=False, labels=season_labels)\n",
        "    df.dropna(inplace=True)\n",
        "    df = df.loc[~(df['my_score'] == 0)]\n",
        "    #df.set_index('series_animedb_id', inplace=True)\n",
        "    df.rename(columns={'my_score': 'score_%s' % user, 'my_watched_episodes': 'watched_episodes_%s' % user}, inplace=True)\n",
        "    return df"
      ],
      "outputs": [],
      "execution_count": 0,
      "metadata": {
        "id": "humh1czjyCvD",
        "colab_type": "code",
        "colab": {}
      }
    },
    {
      "cell_type": "code",
      "source": [
        "dfs = map(make_df, users)"
      ],
      "outputs": [
        {
          "output_type": "stream",
          "name": "stdout",
          "text": [
            "failed to decode series_start 0000-00-00 time data '0000-00-00' does not match format '%Y-%m-%d'\n",
            "failed to decode series_start 2018-07-00 time data '2018-07-00' does not match format '%Y-%m-%d'\n"
          ]
        }
      ],
      "execution_count": 0,
      "metadata": {
        "id": "JoeuD1wjyqXJ",
        "colab_type": "code",
        "outputId": "bdc14e8d-ea71-4964-8121-21e9a6db7a38",
        "colab": {
          "base_uri": "https://localhost:8080/",
          "height": 51
        }
      }
    },
    {
      "cell_type": "markdown",
      "source": [
        "Next up, we'll merge together the DataFrames for each user into one big DataFrame that we'll use to feed our visualization:"
      ],
      "metadata": {}
    },
    {
      "cell_type": "code",
      "source": [
        "joined = reduce(lambda x, y: x.merge(y, how='outer', on=['series_animedb_id', 'series_title', 'series_episodes', 'series_start', 'season']), dfs)\n",
        "joined.sort_values('series_start', inplace=True)"
      ],
      "outputs": [],
      "execution_count": 0,
      "metadata": {
        "id": "VPGPm2RjzZCQ",
        "colab_type": "code",
        "colab": {}
      }
    },
    {
      "cell_type": "code",
      "source": [
        "titles = map(lambda x: x.encode('utf-8'), joined.series_title)\n",
        "seasons = map(str, joined.season)\n",
        "ids = map(int, joined.series_animedb_id)\n",
        "data = []\n",
        "for row in joined.itertuples():\n",
        "    for user in users:\n",
        "        if not math.isnan(getattr(row, 'watched_episodes_%s' % user)):\n",
        "            data.append({'title': getattr(row, 'series_title').encode('utf-8'), 'score': getattr(row, 'score_%s' % user), 'watched': 7 * getattr(row, 'watched_episodes_%s' % user) / float(getattr(row, 'series_episodes')), 'user': user, 'id': getattr(row, 'series_animedb_id')})"
      ],
      "outputs": [],
      "execution_count": 0,
      "metadata": {
        "id": "f7CgWMJr34jp",
        "colab_type": "code",
        "colab": {}
      }
    },
    {
      "cell_type": "markdown",
      "source": [
        "Finally, here's the D3.js implementation of the anime visualization.\n",
        "\n",
        "Most of this is pretty standard D3.js, but there are a few interesting things of note below:\n",
        "\n",
        " 1. We'll use [d3-tip](https://github.com/caged/d3-tip) to get nice tooltips for our visualization.\n",
        " 2. We will inject the data from our DataFrame directly into the `<script>` tag using `string.Template`. For a real web app we'd probably have our JS code request the data from some external source, but this will work for now. We can embed the HTML for the final, data-containing visualization by saving the value of `html_str`, the string that results from injecting our data into the Template.\n",
        " 3. We'll use `d3.forceSimulation()` to prevent the markers (representing different friends) from overlapping."
      ],
      "metadata": {}
    },
    {
      "cell_type": "code",
      "source": [
        "from IPython.core.display import HTML\n",
        "from string import Template\n",
        "template = Template('''\n",
        "<svg width=\"960\" height=\"700\"></svg>\n",
        "\n",
        "<script src=\"https://d3js.org/d3.v4.min.js\"></script>\n",
        "<script src=\"https://cdnjs.cloudflare.com/ajax/libs/d3-legend/2.24.0/d3-legend.min.js\"></script>\n",
        "<script src=\"https://cdnjs.cloudflare.com/ajax/libs/d3-tip/0.8.0-alpha.1/d3-tip.min.js\"></script>\n",
        "<link rel=\"stylesheet\" href=\"https://rawgithub.com/Caged/d3-tip/master/examples/example-styles.css\">\n",
        "<script>\n",
        "var titles = $titles;\n",
        "var seasons = $seasons;\n",
        "var ids = $ids;\n",
        "var users = $users;\n",
        "var data = $data;\n",
        "\n",
        "var season_colors = {\n",
        "  'Fall 2016': 'red',\n",
        "  'Winter 2017': 'blue',\n",
        "  'Spring 2017': 'green',\n",
        "  'Summer 2017': 'orange'\n",
        "};\n",
        "\n",
        "var svg = d3.select(\"svg\"),\n",
        "    margin = {top: 70, right: 20, bottom: 170, left: 170},\n",
        "    width = +svg.attr(\"width\") - margin.left - margin.right,\n",
        "    height = +svg.attr(\"height\") - margin.top - margin.bottom;\n",
        "\n",
        "var x = d3.scalePoint().rangeRound([0, width]).padding(0.5).domain(titles),\n",
        "    y = d3.scaleLinear().rangeRound([height, 0]).domain([0, 10]),\n",
        "    c = d3.scaleOrdinal(d3.schemeCategory10).domain(users);\n",
        "\n",
        "data.forEach(function(d) {\n",
        "    d['x'] = x(d.title);\n",
        "    d['y'] = y(d.score);\n",
        "});\n",
        "\n",
        "var tip = d3.tip()\n",
        "    .attr(\"class\", \"d3-tip\")\n",
        "    .attr(\"background\", \"white\")\n",
        "    .html(function(d) {\n",
        "        return \"<p>\" + d.title + \"</p><p>Rated \" + d.score + \"/10 by \"+ d.user + \"</p>\";\n",
        "    });\n",
        "    svg.call(tip);\n",
        "\n",
        "var g = svg.append(\"g\")\n",
        "    .attr(\"transform\", \"translate(\" + margin.left + \",\" + margin.top + \")\");\n",
        "\n",
        "g.append(\"g\")\n",
        "    .attr(\"class\", \"axis axis-x\")\n",
        "    .attr(\"transform\", \"translate(0,\" + height + \")\")\n",
        "    .call(d3.axisBottom(x))\n",
        "  .selectAll(\"text\")\t\n",
        "    .style(\"text-anchor\", \"end\")\n",
        "    .attr(\"dx\", \"-.8em\")\n",
        "    .attr(\"dy\", \".15em\")\n",
        "    .attr(\"transform\", \"rotate(-45)\")\n",
        "    .attr(\"fill\", function(d, i) { return season_colors[seasons[i]] })\n",
        "    .on('dblclick', function(d, i) { return window.open('https://myanimelist.net/anime/' + ids[i], '_blank'); });\n",
        "\n",
        "g.append(\"g\")\n",
        "    .attr(\"class\", \"axis axis-y\")\n",
        "    .call(d3.axisLeft(y).ticks(10));\n",
        "\n",
        "function make_x_gridlines() {\t\t\n",
        "    return d3.axisBottom(x)\n",
        "        .ticks()\n",
        "}\n",
        "\n",
        "function make_y_gridlines() {\t\t\n",
        "    return d3.axisLeft(y)\n",
        "        .ticks()\n",
        "}\n",
        "\n",
        "g.append(\"g\")\t\t\t\n",
        "    .attr(\"class\", \"grid\")\n",
        "    .attr(\"transform\", \"translate(0,\" + height + \")\")\n",
        "    .attr(\"stroke-opacity\", 0.2)\n",
        "    .call(make_x_gridlines()\n",
        "        .tickSize(-height)\n",
        "        .tickFormat(\"\")\n",
        "    )\n",
        "\n",
        "dots = g.selectAll(\".dot\")\n",
        "  .data(data)\n",
        "  .enter().append(\"circle\")\n",
        "    .attr(\"class\", \"dot\")\n",
        "    .attr(\"cx\", function(d) { return d.x; })\n",
        "    .attr(\"cy\", function(d) { return d.y; })\n",
        "    .attr(\"r\", function(d) { return d.watched })\n",
        "    .attr(\"fill\", function(d) {return c(d.user) })\n",
        "    .attr(\"stroke\", \"black\")\n",
        "    .on('dblclick', function(d) { return window.open('https://myanimelist.net/anime/' + d.id, '_blank'); })\n",
        "    .on('mouseover', tip.show)\n",
        "    .on('mouseout', tip.hide);\n",
        "\n",
        "var simulation = d3.forceSimulation(data)\n",
        "    .velocityDecay(0.9)\n",
        "    .force(\"collide\", d3.forceCollide().radius(function(d) { return d.watched; }).iterations(2))\n",
        "    .on(\"tick\", function() { dots.attr(\"cx\", function(d) { return d.x; }).attr(\"cy\", function(d) { return d.y; }) });\n",
        "\n",
        "// set up legend\n",
        "// step 1: create a group for all legend-related elements\n",
        "var legendGroup = svg.append(\"g\")\n",
        "    .attr(\"class\", \"legendOrdinal\")\n",
        "    .attr(\"transform\", \"translate(20,20)\");\n",
        "// step 2: first thing (lowest in z-order) to add is a rectangle to outline the legend with\n",
        "// we will fill in its size later\n",
        "var legendBox = legendGroup.append(\"rect\")\n",
        "    .attr(\"class\", \"legend-box\")\n",
        "    .attr(\"fill\", \"white\")\n",
        "    .attr(\"stroke\", \"black\");\n",
        "// step 3: invoke d3-legend to create the legend\n",
        "var legendOrdinal = d3.legendColor()\n",
        "    .shape(\"path\", d3.symbol().type(d3.symbolCircle).size(150)())\n",
        "    .shapePadding(10)\n",
        "    .scale(c);\n",
        "var legend = svg.select(\".legendOrdinal\")\n",
        "    .call(legendOrdinal);\n",
        "// step 4: select the legend cells - we will do something with them\n",
        "var legendCells = legendGroup.selectAll('.cell');\n",
        "// step 4b: figure out what size to make the legendBox by iterating over the legendCells\n",
        "var maxWidth = 0;\n",
        "var totalHeight = 0;\n",
        "legendCells.each(function(d) {\n",
        "    var bbox = d3.select(this).node().getBBox();\n",
        "    maxWidth = bbox.width > maxWidth ? bbox.width : maxWidth;\n",
        "    totalHeight += bbox.height + 10;\n",
        "});\n",
        "legendBox.attr(\"width\", maxWidth + 15)\n",
        "    .attr(\"height\", totalHeight)\n",
        "    .attr(\"transform\", \"translate(-15,-15)\");\n",
        "</script>\n",
        "''')\n",
        "html_str = template.substitute({'titles': titles, 'data': data, 'seasons': seasons, 'ids': ids, 'users': users})\n",
        "HTML(html_str)"
      ],
      "outputs": [
        {
          "output_type": "execute_result",
          "execution_count": 22,
          "data": {
            "text/html": [
              "\n",
              "<svg width=\"960\" height=\"700\"></svg>\n",
              "\n",
              "<script src=\"https://d3js.org/d3.v4.min.js\"></script>\n",
              "<script src=\"https://cdnjs.cloudflare.com/ajax/libs/d3-legend/2.24.0/d3-legend.min.js\"></script>\n",
              "<script src=\"https://cdnjs.cloudflare.com/ajax/libs/d3-tip/0.8.0-alpha.1/d3-tip.min.js\"></script>\n",
              "<link rel=\"stylesheet\" href=\"https://rawgithub.com/Caged/d3-tip/master/examples/example-styles.css\">\n",
              "<script>\n",
              "var titles = ['Yuri!!! on Ice', 'Haikyuu!!: Karasuno Koukou VS Shiratorizawa Gakuen Koukou', 'Shelter', 'Fate/Grand Order: First Order', 'Masamune-kun no Revenge', 'Kizumonogatari III: Reiketsu-hen', 'Little Witch Academia (TV)', 'Kobayashi-san Chi no Maid Dragon', 'Kono Subarashii Sekai ni Shukufuku wo! 2', 'Kuzu no Honkai', 'Sword Art Online Movie: Ordinal Scale', 'Boku no Hero Academia 2nd Season', 'Shingeki no Kyojin Season 2', 'Rokudenashi Majutsu Koushi to Akashic Records', 'Tsuki ga Kirei', 'Berserk 2nd Season', 'Saenai Heroine no Sodatekata \\xe2\\x99\\xad', 'Shokugeki no Souma: Ni no Sara OVA', 'Kakegurui', 'Fate/Apocrypha', 'Aho Girl', 'Made in Abyss', 'Ballroom e Youkoso', 'Youkoso Jitsuryoku Shijou Shugi no Kyoushitsu e (TV)', 'Gamers!', 'Owarimonogatari 2nd Season'];\n",
              "var seasons = ['Fall 2016', 'Fall 2016', 'Fall 2016', 'Fall 2016', 'Winter 2017', 'Winter 2017', 'Winter 2017', 'Winter 2017', 'Winter 2017', 'Winter 2017', 'Winter 2017', 'Spring 2017', 'Spring 2017', 'Spring 2017', 'Spring 2017', 'Spring 2017', 'Spring 2017', 'Spring 2017', 'Summer 2017', 'Summer 2017', 'Summer 2017', 'Summer 2017', 'Summer 2017', 'Summer 2017', 'Summer 2017', 'Summer 2017'];\n",
              "var ids = [32995, 32935, 34240, 34321, 33487, 31758, 33489, 33206, 32937, 32949, 31765, 33486, 25777, 32951, 34822, 34055, 30727, 34480, 34933, 34662, 34881, 34599, 34636, 35507, 34280, 35247];\n",
              "var users = ['thelolpatrol', 'gilgi', 'POOPOO88', 'lingybear'];\n",
              "var data = [{'id': 32995, 'watched': 7.0, 'score': 8.0, 'user': 'thelolpatrol', 'title': 'Yuri!!! on Ice'}, {'id': 32995, 'watched': 7.0, 'score': 8.0, 'user': 'gilgi', 'title': 'Yuri!!! on Ice'}, {'id': 32995, 'watched': 7.0, 'score': 8.0, 'user': 'POOPOO88', 'title': 'Yuri!!! on Ice'}, {'id': 32935, 'watched': 7.0, 'score': 9.0, 'user': 'POOPOO88', 'title': 'Haikyuu!!: Karasuno Koukou VS Shiratorizawa Gakuen Koukou'}, {'id': 32935, 'watched': 7.0, 'score': 7.0, 'user': 'lingybear', 'title': 'Haikyuu!!: Karasuno Koukou VS Shiratorizawa Gakuen Koukou'}, {'id': 34240, 'watched': 7.0, 'score': 7.0, 'user': 'POOPOO88', 'title': 'Shelter'}, {'id': 34321, 'watched': 7.0, 'score': 6.0, 'user': 'POOPOO88', 'title': 'Fate/Grand Order: First Order'}, {'id': 33487, 'watched': 7.0, 'score': 6.0, 'user': 'POOPOO88', 'title': 'Masamune-kun no Revenge'}, {'id': 31758, 'watched': 7.0, 'score': 9.0, 'user': 'POOPOO88', 'title': 'Kizumonogatari III: Reiketsu-hen'}, {'id': 33489, 'watched': 2.2400000000000002, 'score': 7.0, 'user': 'gilgi', 'title': 'Little Witch Academia (TV)'}, {'id': 33489, 'watched': 3.6400000000000001, 'score': 6.0, 'user': 'lingybear', 'title': 'Little Witch Academia (TV)'}, {'id': 33206, 'watched': 7.0, 'score': 9.0, 'user': 'thelolpatrol', 'title': 'Kobayashi-san Chi no Maid Dragon'}, {'id': 33206, 'watched': 1.6153846153846154, 'score': 7.0, 'user': 'gilgi', 'title': 'Kobayashi-san Chi no Maid Dragon'}, {'id': 33206, 'watched': 1.0769230769230769, 'score': 7.0, 'user': 'lingybear', 'title': 'Kobayashi-san Chi no Maid Dragon'}, {'id': 32937, 'watched': 7.0, 'score': 8.0, 'user': 'POOPOO88', 'title': 'Kono Subarashii Sekai ni Shukufuku wo! 2'}, {'id': 32949, 'watched': 7.0, 'score': 7.0, 'user': 'POOPOO88', 'title': 'Kuzu no Honkai'}, {'id': 31765, 'watched': 7.0, 'score': 5.0, 'user': 'POOPOO88', 'title': 'Sword Art Online Movie: Ordinal Scale'}, {'id': 33486, 'watched': 7.0, 'score': 9.0, 'user': 'POOPOO88', 'title': 'Boku no Hero Academia 2nd Season'}, {'id': 25777, 'watched': 7.0, 'score': 7.0, 'user': 'gilgi', 'title': 'Shingeki no Kyojin Season 2'}, {'id': 25777, 'watched': 7.0, 'score': 9.0, 'user': 'POOPOO88', 'title': 'Shingeki no Kyojin Season 2'}, {'id': 25777, 'watched': 7.0, 'score': 7.0, 'user': 'lingybear', 'title': 'Shingeki no Kyojin Season 2'}, {'id': 32951, 'watched': 7.0, 'score': 5.0, 'user': 'POOPOO88', 'title': 'Rokudenashi Majutsu Koushi to Akashic Records'}, {'id': 34822, 'watched': 1.75, 'score': 6.0, 'user': 'gilgi', 'title': 'Tsuki ga Kirei'}, {'id': 34822, 'watched': 7.0, 'score': 10.0, 'user': 'POOPOO88', 'title': 'Tsuki ga Kirei'}, {'id': 34822, 'watched': 7.0, 'score': 8.0, 'user': 'lingybear', 'title': 'Tsuki ga Kirei'}, {'id': 34055, 'watched': 7.0, 'score': 9.0, 'user': 'thelolpatrol', 'title': 'Berserk 2nd Season'}, {'id': 30727, 'watched': 7.0, 'score': 7.0, 'user': 'POOPOO88', 'title': 'Saenai Heroine no Sodatekata \\xe2\\x99\\xad'}, {'id': 34480, 'watched': 7.0, 'score': 8.0, 'user': 'lingybear', 'title': 'Shokugeki no Souma: Ni no Sara OVA'}, {'id': 34933, 'watched': 7.0, 'score': 6.0, 'user': 'POOPOO88', 'title': 'Kakegurui'}, {'id': 34662, 'watched': 4.2000000000000002, 'score': 7.0, 'user': 'gilgi', 'title': 'Fate/Apocrypha'}, {'id': 34881, 'watched': 7.0, 'score': 5.0, 'user': 'POOPOO88', 'title': 'Aho Girl'}, {'id': 34599, 'watched': 7.0, 'score': 9.0, 'user': 'thelolpatrol', 'title': 'Made in Abyss'}, {'id': 34599, 'watched': 7.0, 'score': 9.0, 'user': 'POOPOO88', 'title': 'Made in Abyss'}, {'id': 34636, 'watched': 2.9166666666666665, 'score': 7.0, 'user': 'gilgi', 'title': 'Ballroom e Youkoso'}, {'id': 34636, 'watched': 2.0416666666666665, 'score': 7.0, 'user': 'lingybear', 'title': 'Ballroom e Youkoso'}, {'id': 35507, 'watched': 4.666666666666667, 'score': 5.0, 'user': 'gilgi', 'title': 'Youkoso Jitsuryoku Shijou Shugi no Kyoushitsu e (TV)'}, {'id': 35507, 'watched': 7.0, 'score': 6.0, 'user': 'POOPOO88', 'title': 'Youkoso Jitsuryoku Shijou Shugi no Kyoushitsu e (TV)'}, {'id': 35507, 'watched': 4.083333333333333, 'score': 7.0, 'user': 'lingybear', 'title': 'Youkoso Jitsuryoku Shijou Shugi no Kyoushitsu e (TV)'}, {'id': 34280, 'watched': 3.5, 'score': 6.0, 'user': 'lingybear', 'title': 'Gamers!'}, {'id': 35247, 'watched': 7.0, 'score': 9.0, 'user': 'POOPOO88', 'title': 'Owarimonogatari 2nd Season'}];\n",
              "\n",
              "var season_colors = {\n",
              "  'Fall 2016': 'red',\n",
              "  'Winter 2017': 'blue',\n",
              "  'Spring 2017': 'green',\n",
              "  'Summer 2017': 'orange'\n",
              "};\n",
              "\n",
              "var svg = d3.select(\"svg\"),\n",
              "    margin = {top: 70, right: 20, bottom: 170, left: 170},\n",
              "    width = +svg.attr(\"width\") - margin.left - margin.right,\n",
              "    height = +svg.attr(\"height\") - margin.top - margin.bottom;\n",
              "\n",
              "var x = d3.scalePoint().rangeRound([0, width]).padding(0.5).domain(titles),\n",
              "    y = d3.scaleLinear().rangeRound([height, 0]).domain([0, 10]),\n",
              "    c = d3.scaleOrdinal(d3.schemeCategory10).domain(users);\n",
              "\n",
              "data.forEach(function(d) {\n",
              "    d['x'] = x(d.title);\n",
              "    d['y'] = y(d.score);\n",
              "});\n",
              "\n",
              "var tip = d3.tip()\n",
              "    .attr(\"class\", \"d3-tip\")\n",
              "    .attr(\"background\", \"white\")\n",
              "    .html(function(d) {\n",
              "        return \"<p>\" + d.title + \"</p><p>Rated \" + d.score + \"/10 by \"+ d.user + \"</p>\";\n",
              "    });\n",
              "    svg.call(tip);\n",
              "\n",
              "var g = svg.append(\"g\")\n",
              "    .attr(\"transform\", \"translate(\" + margin.left + \",\" + margin.top + \")\");\n",
              "\n",
              "g.append(\"g\")\n",
              "    .attr(\"class\", \"axis axis-x\")\n",
              "    .attr(\"transform\", \"translate(0,\" + height + \")\")\n",
              "    .call(d3.axisBottom(x))\n",
              "  .selectAll(\"text\")\t\n",
              "    .style(\"text-anchor\", \"end\")\n",
              "    .attr(\"dx\", \"-.8em\")\n",
              "    .attr(\"dy\", \".15em\")\n",
              "    .attr(\"transform\", \"rotate(-45)\")\n",
              "    .attr(\"fill\", function(d, i) { return season_colors[seasons[i]] })\n",
              "    .on('dblclick', function(d, i) { return window.open('https://myanimelist.net/anime/' + ids[i], '_blank'); });\n",
              "\n",
              "g.append(\"g\")\n",
              "    .attr(\"class\", \"axis axis-y\")\n",
              "    .call(d3.axisLeft(y).ticks(10));\n",
              "\n",
              "function make_x_gridlines() {\t\t\n",
              "    return d3.axisBottom(x)\n",
              "        .ticks()\n",
              "}\n",
              "\n",
              "function make_y_gridlines() {\t\t\n",
              "    return d3.axisLeft(y)\n",
              "        .ticks()\n",
              "}\n",
              "\n",
              "g.append(\"g\")\t\t\t\n",
              "    .attr(\"class\", \"grid\")\n",
              "    .attr(\"transform\", \"translate(0,\" + height + \")\")\n",
              "    .attr(\"stroke-opacity\", 0.2)\n",
              "    .call(make_x_gridlines()\n",
              "        .tickSize(-height)\n",
              "        .tickFormat(\"\")\n",
              "    )\n",
              "\n",
              "dots = g.selectAll(\".dot\")\n",
              "  .data(data)\n",
              "  .enter().append(\"circle\")\n",
              "    .attr(\"class\", \"dot\")\n",
              "    .attr(\"cx\", function(d) { return d.x; })\n",
              "    .attr(\"cy\", function(d) { return d.y; })\n",
              "    .attr(\"r\", function(d) { return d.watched })\n",
              "    .attr(\"fill\", function(d) {return c(d.user) })\n",
              "    .attr(\"stroke\", \"black\")\n",
              "    .on('dblclick', function(d) { return window.open('https://myanimelist.net/anime/' + d.id, '_blank'); })\n",
              "    .on('mouseover', tip.show)\n",
              "    .on('mouseout', tip.hide);\n",
              "\n",
              "var simulation = d3.forceSimulation(data)\n",
              "    .velocityDecay(0.9)\n",
              "    .force(\"collide\", d3.forceCollide().radius(function(d) { return d.watched; }).iterations(2))\n",
              "    .on(\"tick\", function() { dots.attr(\"cx\", function(d) { return d.x; }).attr(\"cy\", function(d) { return d.y; }) });\n",
              "\n",
              "// set up legend\n",
              "// step 1: create a group for all legend-related elements\n",
              "var legendGroup = svg.append(\"g\")\n",
              "    .attr(\"class\", \"legendOrdinal\")\n",
              "    .attr(\"transform\", \"translate(20,20)\");\n",
              "// step 2: first thing (lowest in z-order) to add is a rectangle to outline the legend with\n",
              "// we will fill in its size later\n",
              "var legendBox = legendGroup.append(\"rect\")\n",
              "    .attr(\"class\", \"legend-box\")\n",
              "    .attr(\"fill\", \"white\")\n",
              "    .attr(\"stroke\", \"black\");\n",
              "// step 3: invoke d3-legend to create the legend\n",
              "var legendOrdinal = d3.legendColor()\n",
              "    .shape(\"path\", d3.symbol().type(d3.symbolCircle).size(150)())\n",
              "    .shapePadding(10)\n",
              "    .scale(c);\n",
              "var legend = svg.select(\".legendOrdinal\")\n",
              "    .call(legendOrdinal);\n",
              "// step 4: select the legend cells - we will do something with them\n",
              "var legendCells = legendGroup.selectAll('.cell');\n",
              "// step 4b: figure out what size to make the legendBox by iterating over the legendCells\n",
              "var maxWidth = 0;\n",
              "var totalHeight = 0;\n",
              "legendCells.each(function(d) {\n",
              "    var bbox = d3.select(this).node().getBBox();\n",
              "    maxWidth = bbox.width > maxWidth ? bbox.width : maxWidth;\n",
              "    totalHeight += bbox.height + 10;\n",
              "});\n",
              "legendBox.attr(\"width\", maxWidth + 15)\n",
              "    .attr(\"height\", totalHeight)\n",
              "    .attr(\"transform\", \"translate(-15,-15)\");\n",
              "</script>\n"
            ],
            "text/plain": [
              "<IPython.core.display.HTML object>"
            ]
          },
          "metadata": {
            "tags": []
          }
        }
      ],
      "execution_count": 0,
      "metadata": {
        "id": "hILEpkxaGUXe",
        "colab_type": "code",
        "outputId": "6b089473-8354-44a3-ff1b-180ffd516157",
        "colab": {
          "base_uri": "https://localhost:8080/",
          "height": 721
        }
      }
    }
  ],
  "metadata": {
    "colab": {
      "name": "mal_hype_ladder.ipynb",
      "provenance": [],
      "collapsed_sections": []
    },
    "nteract": {
      "version": "0.15.0"
    }
  },
  "nbformat": 4,
  "nbformat_minor": 0
}
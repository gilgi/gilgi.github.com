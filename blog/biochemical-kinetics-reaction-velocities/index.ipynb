{
  "cells": [
    {
      "cell_type": "markdown",
      "source": [
        "![](/images/blog/biochemical-kinetics-reaction-velocities.png)\n",
        "\n",
        "Biochem students will likely remember the mathematical beauty of [enzyme kinetics models like the Michaelis-Menten model](https://en.wikipedia.org/wiki/Enzyme_kinetics#Michaelis%E2%80%93Menten_kinetics). In this short post, we'll take a look at how we can fit this kind of model to experimental data in Python using some staightforward optimization.\n",
        "\n",
        "[![Open In Colab](https://colab.research.google.com/assets/colab-badge.svg)](https://drive.google.com/file/d/1jX3DFISXMPWc8fmI6cqxgYdxAXlVbsUm/view?usp=sharing)\n",
        "\n",
        "<!-- TEASER_END -->"
      ],
      "metadata": {}
    },
    {
      "cell_type": "code",
      "source": [
        "import numpy as np\n",
        "from scipy.optimize import minimize\n",
        "import matplotlib.pyplot as plt"
      ],
      "outputs": [],
      "execution_count": 0,
      "metadata": {
        "colab": {},
        "colab_type": "code",
        "id": "qf84bb_uAiv7"
      }
    },
    {
      "cell_type": "markdown",
      "source": [
        "Let's assume we are measuring reaction rate $v$ as a function of substrate concentration $[S]$ under a simple Michaelis-Menten model:\n",
        "\n",
        "$$ v = \\frac{V_{max}[S]}{K_M + [S]} $$"
      ],
      "metadata": {
        "colab_type": "text",
        "id": "_De76tbAjMB-"
      }
    },
    {
      "cell_type": "code",
      "source": [
        "def v(s, v_max, k_m):\n",
        "    return (v_max * s) / (k_m + s)"
      ],
      "outputs": [],
      "execution_count": 0,
      "metadata": {
        "colab": {},
        "colab_type": "code",
        "id": "LR3_RiLVbEdE"
      }
    },
    {
      "cell_type": "markdown",
      "source": [
        "We perform experiments to collect some data points $D$ where the $i$th row of $D$ is $d_i = ([S]_i, v_i)$."
      ],
      "metadata": {
        "colab_type": "text",
        "id": "yIQIGhfvkIOe"
      }
    },
    {
      "cell_type": "code",
      "source": [
        "data = np.array([[3.6, 1.8, 0.9, 0.45, 0.225, 0.1125, 3.6, 1.8, 0.9, 0.45, 0.225, 0.1125, 3.6, 1.8, 0.9, 0.45, 0.225, 0.1125, 0],\n",
        "                 [0.004407692, 0.004192308, 0.003553846, 0.002576923, 0.001661538, 0.001064286, 0.004835714, 0.004671429, 0.0039, 0.002857143, 0.00175, 0.001057143, 0.004907143, 0.004521429, 0.00375, 0.002764286, 0.001857143, 0.001121429, 0]]).T\n",
        "\n",
        "v_real = data[:, 1]\n",
        "s_real = data[:, 0]\n",
        "data"
      ],
      "outputs": [
        {
          "output_type": "execute_result",
          "execution_count": 3,
          "data": {
            "text/plain": [
              "array([[3.600000e+00, 4.407692e-03],\n",
              "       [1.800000e+00, 4.192308e-03],\n",
              "       [9.000000e-01, 3.553846e-03],\n",
              "       [4.500000e-01, 2.576923e-03],\n",
              "       [2.250000e-01, 1.661538e-03],\n",
              "       [1.125000e-01, 1.064286e-03],\n",
              "       [3.600000e+00, 4.835714e-03],\n",
              "       [1.800000e+00, 4.671429e-03],\n",
              "       [9.000000e-01, 3.900000e-03],\n",
              "       [4.500000e-01, 2.857143e-03],\n",
              "       [2.250000e-01, 1.750000e-03],\n",
              "       [1.125000e-01, 1.057143e-03],\n",
              "       [3.600000e+00, 4.907143e-03],\n",
              "       [1.800000e+00, 4.521429e-03],\n",
              "       [9.000000e-01, 3.750000e-03],\n",
              "       [4.500000e-01, 2.764286e-03],\n",
              "       [2.250000e-01, 1.857143e-03],\n",
              "       [1.125000e-01, 1.121429e-03],\n",
              "       [0.000000e+00, 0.000000e+00]])"
            ]
          },
          "metadata": {
            "tags": []
          }
        }
      ],
      "execution_count": 0,
      "metadata": {
        "colab": {
          "base_uri": "https://localhost:8080/",
          "height": 340
        },
        "colab_type": "code",
        "id": "CmFfG8vhkWvY",
        "outputId": "9ca0c63b-646c-4af5-9139-da976ae2cccd"
      }
    },
    {
      "cell_type": "markdown",
      "source": [
        "We can then fit the two parameters $V_{max}$ and $K_M$ using this data.\n",
        "\n",
        "We first specify a least squares loss function:"
      ],
      "metadata": {
        "colab_type": "text",
        "id": "vVXrLMHTlLW0"
      }
    },
    {
      "cell_type": "code",
      "source": [
        "def loss(theta):\n",
        "    v_max, k_m = theta\n",
        "    v_pred = v(s_real, v_max, k_m)\n",
        "    return np.sum((v_real - v_pred)**2)"
      ],
      "outputs": [],
      "execution_count": 0,
      "metadata": {
        "colab": {},
        "colab_type": "code",
        "id": "LfXeZC8olVVi"
      }
    },
    {
      "cell_type": "markdown",
      "source": [
        "And then optimize it:"
      ],
      "metadata": {
        "colab_type": "text",
        "id": "jmcs3eWIl_MA"
      }
    },
    {
      "cell_type": "code",
      "source": [
        "res = minimize(loss, [1, 1])\n",
        "res.x"
      ],
      "outputs": [
        {
          "output_type": "execute_result",
          "execution_count": 5,
          "data": {
            "text/plain": [
              "array([0.00541391, 0.43608117])"
            ]
          },
          "metadata": {
            "tags": []
          }
        }
      ],
      "execution_count": 0,
      "metadata": {
        "colab": {
          "base_uri": "https://localhost:8080/",
          "height": 34
        },
        "colab_type": "code",
        "id": "sdD-GYRSmB9-",
        "outputId": "8589d266-5014-4a89-d80b-0e9d8d758149"
      }
    },
    {
      "cell_type": "markdown",
      "source": [
        "Finally, we can plot the fitted model over the real data points:"
      ],
      "metadata": {
        "colab_type": "text",
        "id": "LDOJx_O6mSTu"
      }
    },
    {
      "cell_type": "code",
      "source": [
        "plt.scatter(s_real, v_real)\n",
        "s_plot = np.linspace(0, 4, 100)\n",
        "plt.plot(s_plot, v(s_plot, res.x[0], res.x[1]))\n",
        "plt.xlim([0, 4])\n",
        "plt.ylim([0, 0.006])\n",
        "plt.xlabel('$[S]$')\n",
        "plt.ylabel('$v$')\n",
        "plt.show()"
      ],
      "outputs": [
        {
          "output_type": "display_data",
          "data": {
            "image/png": "[encoded data removed]",
            "text/plain": [
              "<matplotlib.figure.Figure at 0x7f9f85860748>"
            ]
          },
          "metadata": {
            "tags": []
          }
        }
      ],
      "execution_count": 0,
      "metadata": {
        "colab": {
          "base_uri": "https://localhost:8080/",
          "height": 369
        },
        "colab_type": "code",
        "id": "VMxAa0XYmYx5",
        "outputId": "f5a099e4-7bbe-42bf-a84e-36a9ea66f6c9"
      }
    }
  ],
  "metadata": {
    "colab": {
      "name": "biochemical_kinetics_reaction_velocities.ipynb",
      "provenance": []
    },
    "kernelspec": {
      "name": "python3",
      "display_name": "Python 3"
    },
    "nteract": {
      "version": "0.15.0"
    }
  },
  "nbformat": 4,
  "nbformat_minor": 0
}
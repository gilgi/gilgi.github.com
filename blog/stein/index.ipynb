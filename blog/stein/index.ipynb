{
  "cells": [
    {
      "cell_type": "markdown",
      "source": [
        "![](/images/blog/stein.png)\n",
        "\n",
        "I recently heard of [Stein's paradox](https://en.wikipedia.org/wiki/Stein%27s_example), and at first I couldn't believe it! In this post, I'll convince myself by comparing the risk of a [James–Stein estimator](https://en.wikipedia.org/wiki/James%E2%80%93Stein_estimator) to a naive estimator on a simulated high-dimensional dataset.\n",
        "\n",
        "[![Open In Colab](https://colab.research.google.com/assets/colab-badge.svg)](https://colab.research.google.com/github/gilgi/gilgi.github.com/blob/src/posts/stein.ipynb)\n",
        "\n",
        "<!-- TEASER_END -->"
      ],
      "metadata": {}
    },
    {
      "cell_type": "code",
      "source": [
        "import numpy as np\n",
        "import scipy.stats as stats\n",
        "import matplotlib.pyplot as plt"
      ],
      "outputs": [],
      "execution_count": 0,
      "metadata": {
        "id": "c1I5Jpj1U4o5",
        "colab_type": "code",
        "colab": {}
      }
    },
    {
      "cell_type": "markdown",
      "source": [
        "We have a single data point $x$ drawn from a $d$-dimensional multivariate normal distribution with mean vector $\\theta$ and covariance matrix $I_d$ (the $d\\times d$ identity matrix).\n",
        "\n",
        "$X \\sim \\mathcal{N}(\\theta, I_d)$\n",
        "\n",
        "We want to obtain an estimate $\\hat{\\theta}$ of $\\theta$ by using only $x$.\n",
        "\n",
        "We will compare different estimators $\\hat{\\theta}(x)$ using their \"risk\", which is basically their mean squared error across trials."
      ],
      "metadata": {
        "id": "tsa2Euoehvvk",
        "colab_type": "text"
      }
    },
    {
      "cell_type": "markdown",
      "source": [
        "The simplest estimator is $\\hat{\\theta}(x) = x$. We will call this the naive estimator."
      ],
      "metadata": {
        "id": "uGFe5U1kjTkw",
        "colab_type": "text"
      }
    },
    {
      "cell_type": "code",
      "source": [
        "def est_naive(x):\n",
        "    return x"
      ],
      "outputs": [],
      "execution_count": 0,
      "metadata": {
        "id": "vmkCowyUU7sW",
        "colab_type": "code",
        "colab": {}
      }
    },
    {
      "cell_type": "markdown",
      "source": [
        "Stein's paradox suggests that we can come up with an alternative estimator that has lower risk: $\\hat{\\theta}(x) = \\left(1 - \\frac{d - 2}{||x||_2^2}\\right) \\times x$. We can think of this as shrinking our estimate $\\hat{\\theta}$ towards zero, tuning the strength of the shrinkage we apply by estimating something directly from our single data point (namely, it's Euclidean norm)."
      ],
      "metadata": {
        "id": "k0XbMOBMjZgg",
        "colab_type": "text"
      }
    },
    {
      "cell_type": "code",
      "source": [
        "def est_stein(x):\n",
        "    return (1 - (x.shape[1] - 2)/np.linalg.norm(x, axis=1)**2)[:, None] * x"
      ],
      "outputs": [],
      "execution_count": 0,
      "metadata": {
        "id": "phu0s0cyhuUX",
        "colab_type": "code",
        "colab": {}
      }
    },
    {
      "cell_type": "markdown",
      "source": [
        "We define a function to estimate the risk of an estimator at a particular true value of $\\theta$ by averaging the mean squared error of the estimator over $m$ trials."
      ],
      "metadata": {
        "id": "9k_0iiEAj9_O",
        "colab_type": "text"
      }
    },
    {
      "cell_type": "code",
      "source": [
        "def mean_risk(est, theta, m=int(1e6)):\n",
        "    rvs = stats.multivariate_normal(theta, 1).rvs(m)\n",
        "    ests = est(rvs)\n",
        "    rs = np.linalg.norm((ests - theta), axis=1)**2\n",
        "    return np.mean(rs)"
      ],
      "outputs": [],
      "execution_count": 0,
      "metadata": {
        "id": "cxDaxHCfXBFK",
        "colab_type": "code",
        "colab": {}
      }
    },
    {
      "cell_type": "markdown",
      "source": [
        "We now evaluate the mean risk for various choices of $\\theta$. For simplicity, we just try a sequence of $\\theta$'s whose components are all equal and take integer values between 0 and 10 inclusive."
      ],
      "metadata": {
        "id": "sG2ipIRHkgo3",
        "colab_type": "text"
      }
    },
    {
      "cell_type": "code",
      "source": [
        "d = 10\n",
        "naive_risk = [mean_risk(est_naive, [t] * d) for t in range(11)]\n",
        "stein_risk = [mean_risk(est_stein, [t] * d) for t in range(11)]"
      ],
      "outputs": [],
      "execution_count": 0,
      "metadata": {
        "id": "4H4SF0ljXK2T",
        "colab_type": "code",
        "colab": {}
      }
    },
    {
      "cell_type": "markdown",
      "source": [
        "We can then plot the mean risk."
      ],
      "metadata": {
        "id": "HTxa3-Nlk5OL",
        "colab_type": "text"
      }
    },
    {
      "cell_type": "code",
      "source": [
        "plt.plot(np.arange(len(naive_risk)), naive_risk, label='naive', color='r')\n",
        "plt.plot(np.arange(len(stein_risk)), stein_risk, label='Stein', color='b')\n",
        "plt.xlabel(r'$\\theta_i$')\n",
        "plt.ylabel('risk')\n",
        "plt.legend()"
      ],
      "outputs": [
        {
          "output_type": "execute_result",
          "execution_count": 6,
          "data": {
            "text/plain": [
              "<matplotlib.legend.Legend at 0x7f46a450ec18>"
            ]
          },
          "metadata": {
            "tags": []
          }
        },
        {
          "output_type": "display_data",
          "data": {
            "image/png": "[encoded data removed]",
            "text/plain": [
              "<matplotlib.figure.Figure at 0x7f46a722a9b0>"
            ]
          },
          "metadata": {
            "tags": []
          }
        }
      ],
      "execution_count": 0,
      "metadata": {
        "id": "e6hr1oKrhJaK",
        "colab_type": "code",
        "outputId": "31893ed5-1ee7-469f-9edd-9afed4b0e0d5",
        "colab": {
          "base_uri": "https://localhost:8080/",
          "height": 382
        }
      }
    },
    {
      "cell_type": "markdown",
      "source": [
        "We can see that when the true $\\theta$ is close to the zero vector, the Stein estimator has a much lower risk than the naive estimator. This is what we expect to happen if we think of the Stein estimator as performing some kind of Bayesian shrinkage towards a prior distribution over $\\theta$ which happens to match the true $\\theta$ reasonably well. We could imagine that some property like this might also hold for 1 or 2 dimensions. What is perhaps more surprising is that the Stein estimator has lower risk than the naive estimator even when the true $\\theta$ is far from the zero vector (the Stein estimator appears to asymptotically approach the risk of the naive estimator from below as the distance between the true $\\theta$ and the zero vector goes to infinity). This suggests that even when the choice of a Bayesian prior is arbitrarily \"wrong\" in the sense that it is centered very far from the true value of the parameter, it is still better to apply the shrinkage (as long as we are in high-dimensional space, $d \\geq 3$)."
      ],
      "metadata": {
        "id": "wn6i53r_mLQ3",
        "colab_type": "text"
      }
    }
  ],
  "metadata": {
    "colab": {
      "name": "stein.ipynb",
      "provenance": [],
      "collapsed_sections": []
    },
    "kernelspec": {
      "name": "python3",
      "display_name": "Python 3"
    },
    "nteract": {
      "version": "0.15.0"
    }
  },
  "nbformat": 4,
  "nbformat_minor": 0
}